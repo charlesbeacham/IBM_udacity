{
 "cells": [
  {
   "cell_type": "markdown",
   "metadata": {},
   "source": [
    "# Recommendations with IBM\n",
    "\n",
    "In this notebook, you will be putting your recommendation skills to use on real data from the IBM Watson Studio platform. \n",
    "\n",
    "\n",
    "You may either submit your notebook through the workspace here, or you may work from your local machine and submit through the next page.  Either way assure that your code passes the project [RUBRIC](https://review.udacity.com/#!/rubrics/3325/view).  **Please save regularly.**\n",
    "\n",
    "By following the table of contents, you will build out a number of different methods for making recommendations that can be used for different situations. \n",
    "\n",
    "\n",
    "## Table of Contents\n",
    "\n",
    "I. [Exploratory Data Analysis](#Exploratory-Data-Analysis)<br>\n",
    "II. [Rank Based Recommendations](#Rank)<br>\n",
    "III. [User-User Based Collaborative Filtering](#User-User)<br>\n",
    "IV. [Content Based Recommendations (EXTRA - NOT REQUIRED)](#Content-Recs)<br>\n",
    "V. [Matrix Factorization](#Matrix-Fact)<br>\n",
    "VI. [Extras & Concluding](#conclusions)\n",
    "\n",
    "At the end of the notebook, you will find directions for how to submit your work.  Let's get started by importing the necessary libraries and reading in the data."
   ]
  },
  {
   "cell_type": "code",
   "execution_count": 1,
   "metadata": {},
   "outputs": [],
   "source": [
    "# Imports\n",
    "import pandas as pd\n",
    "import numpy as np\n",
    "import matplotlib.pyplot as plt\n",
    "import project_tests as t\n",
    "import pickle\n",
    "import seaborn as sns\n",
    "sns.set_theme(context='talk', style='darkgrid')\n",
    "\n",
    "%matplotlib inline"
   ]
  },
  {
   "cell_type": "code",
   "execution_count": 2,
   "metadata": {},
   "outputs": [
    {
     "data": {
      "text/html": [
       "<div>\n",
       "<style scoped>\n",
       "    .dataframe tbody tr th:only-of-type {\n",
       "        vertical-align: middle;\n",
       "    }\n",
       "\n",
       "    .dataframe tbody tr th {\n",
       "        vertical-align: top;\n",
       "    }\n",
       "\n",
       "    .dataframe thead th {\n",
       "        text-align: right;\n",
       "    }\n",
       "</style>\n",
       "<table border=\"1\" class=\"dataframe\">\n",
       "  <thead>\n",
       "    <tr style=\"text-align: right;\">\n",
       "      <th></th>\n",
       "      <th>article_id</th>\n",
       "      <th>title</th>\n",
       "      <th>email</th>\n",
       "    </tr>\n",
       "  </thead>\n",
       "  <tbody>\n",
       "    <tr>\n",
       "      <th>0</th>\n",
       "      <td>1430.0</td>\n",
       "      <td>using pixiedust for fast, flexible, and easier...</td>\n",
       "      <td>ef5f11f77ba020cd36e1105a00ab868bbdbf7fe7</td>\n",
       "    </tr>\n",
       "    <tr>\n",
       "      <th>1</th>\n",
       "      <td>1314.0</td>\n",
       "      <td>healthcare python streaming application demo</td>\n",
       "      <td>083cbdfa93c8444beaa4c5f5e0f5f9198e4f9e0b</td>\n",
       "    </tr>\n",
       "    <tr>\n",
       "      <th>2</th>\n",
       "      <td>1429.0</td>\n",
       "      <td>use deep learning for image classification</td>\n",
       "      <td>b96a4f2e92d8572034b1e9b28f9ac673765cd074</td>\n",
       "    </tr>\n",
       "    <tr>\n",
       "      <th>3</th>\n",
       "      <td>1338.0</td>\n",
       "      <td>ml optimization using cognitive assistant</td>\n",
       "      <td>06485706b34a5c9bf2a0ecdac41daf7e7654ceb7</td>\n",
       "    </tr>\n",
       "    <tr>\n",
       "      <th>4</th>\n",
       "      <td>1276.0</td>\n",
       "      <td>deploy your python model as a restful api</td>\n",
       "      <td>f01220c46fc92c6e6b161b1849de11faacd7ccb2</td>\n",
       "    </tr>\n",
       "  </tbody>\n",
       "</table>\n",
       "</div>"
      ],
      "text/plain": [
       "   article_id                                              title  \\\n",
       "0      1430.0  using pixiedust for fast, flexible, and easier...   \n",
       "1      1314.0       healthcare python streaming application demo   \n",
       "2      1429.0         use deep learning for image classification   \n",
       "3      1338.0          ml optimization using cognitive assistant   \n",
       "4      1276.0          deploy your python model as a restful api   \n",
       "\n",
       "                                      email  \n",
       "0  ef5f11f77ba020cd36e1105a00ab868bbdbf7fe7  \n",
       "1  083cbdfa93c8444beaa4c5f5e0f5f9198e4f9e0b  \n",
       "2  b96a4f2e92d8572034b1e9b28f9ac673765cd074  \n",
       "3  06485706b34a5c9bf2a0ecdac41daf7e7654ceb7  \n",
       "4  f01220c46fc92c6e6b161b1849de11faacd7ccb2  "
      ]
     },
     "execution_count": 2,
     "metadata": {},
     "output_type": "execute_result"
    }
   ],
   "source": [
    "# Read in data\n",
    "df = pd.read_csv(\"data/user-item-interactions.csv\")\n",
    "df_content = pd.read_csv(\"data/articles_community.csv\")\n",
    "del df[\"Unnamed: 0\"]\n",
    "del df_content[\"Unnamed: 0\"]\n",
    "\n",
    "# import the user_item_matrix\n",
    "uim = pd.read_pickle(\"user_item_matrix.p\")\n",
    "\n",
    "# Show df to get an idea of the data\n",
    "df.head()"
   ]
  },
  {
   "cell_type": "code",
   "execution_count": 3,
   "metadata": {},
   "outputs": [
    {
     "data": {
      "text/html": [
       "<div>\n",
       "<style scoped>\n",
       "    .dataframe tbody tr th:only-of-type {\n",
       "        vertical-align: middle;\n",
       "    }\n",
       "\n",
       "    .dataframe tbody tr th {\n",
       "        vertical-align: top;\n",
       "    }\n",
       "\n",
       "    .dataframe thead th {\n",
       "        text-align: right;\n",
       "    }\n",
       "</style>\n",
       "<table border=\"1\" class=\"dataframe\">\n",
       "  <thead>\n",
       "    <tr style=\"text-align: right;\">\n",
       "      <th></th>\n",
       "      <th>doc_body</th>\n",
       "      <th>doc_description</th>\n",
       "      <th>doc_full_name</th>\n",
       "      <th>doc_status</th>\n",
       "      <th>article_id</th>\n",
       "    </tr>\n",
       "  </thead>\n",
       "  <tbody>\n",
       "    <tr>\n",
       "      <th>0</th>\n",
       "      <td>Skip navigation Sign in SearchLoading...\\r\\n\\r...</td>\n",
       "      <td>Detect bad readings in real time using Python ...</td>\n",
       "      <td>Detect Malfunctioning IoT Sensors with Streami...</td>\n",
       "      <td>Live</td>\n",
       "      <td>0</td>\n",
       "    </tr>\n",
       "    <tr>\n",
       "      <th>1</th>\n",
       "      <td>No Free Hunch Navigation * kaggle.com\\r\\n\\r\\n ...</td>\n",
       "      <td>See the forest, see the trees. Here lies the c...</td>\n",
       "      <td>Communicating data science: A guide to present...</td>\n",
       "      <td>Live</td>\n",
       "      <td>1</td>\n",
       "    </tr>\n",
       "    <tr>\n",
       "      <th>2</th>\n",
       "      <td>☰ * Login\\r\\n * Sign Up\\r\\n\\r\\n * Learning Pat...</td>\n",
       "      <td>Here’s this week’s news in Data Science and Bi...</td>\n",
       "      <td>This Week in Data Science (April 18, 2017)</td>\n",
       "      <td>Live</td>\n",
       "      <td>2</td>\n",
       "    </tr>\n",
       "    <tr>\n",
       "      <th>3</th>\n",
       "      <td>DATALAYER: HIGH THROUGHPUT, LOW LATENCY AT SCA...</td>\n",
       "      <td>Learn how distributed DBs solve the problem of...</td>\n",
       "      <td>DataLayer Conference: Boost the performance of...</td>\n",
       "      <td>Live</td>\n",
       "      <td>3</td>\n",
       "    </tr>\n",
       "    <tr>\n",
       "      <th>4</th>\n",
       "      <td>Skip navigation Sign in SearchLoading...\\r\\n\\r...</td>\n",
       "      <td>This video demonstrates the power of IBM DataS...</td>\n",
       "      <td>Analyze NY Restaurant data using Spark in DSX</td>\n",
       "      <td>Live</td>\n",
       "      <td>4</td>\n",
       "    </tr>\n",
       "  </tbody>\n",
       "</table>\n",
       "</div>"
      ],
      "text/plain": [
       "                                            doc_body  \\\n",
       "0  Skip navigation Sign in SearchLoading...\\r\\n\\r...   \n",
       "1  No Free Hunch Navigation * kaggle.com\\r\\n\\r\\n ...   \n",
       "2  ☰ * Login\\r\\n * Sign Up\\r\\n\\r\\n * Learning Pat...   \n",
       "3  DATALAYER: HIGH THROUGHPUT, LOW LATENCY AT SCA...   \n",
       "4  Skip navigation Sign in SearchLoading...\\r\\n\\r...   \n",
       "\n",
       "                                     doc_description  \\\n",
       "0  Detect bad readings in real time using Python ...   \n",
       "1  See the forest, see the trees. Here lies the c...   \n",
       "2  Here’s this week’s news in Data Science and Bi...   \n",
       "3  Learn how distributed DBs solve the problem of...   \n",
       "4  This video demonstrates the power of IBM DataS...   \n",
       "\n",
       "                                       doc_full_name doc_status  article_id  \n",
       "0  Detect Malfunctioning IoT Sensors with Streami...       Live           0  \n",
       "1  Communicating data science: A guide to present...       Live           1  \n",
       "2         This Week in Data Science (April 18, 2017)       Live           2  \n",
       "3  DataLayer Conference: Boost the performance of...       Live           3  \n",
       "4      Analyze NY Restaurant data using Spark in DSX       Live           4  "
      ]
     },
     "execution_count": 3,
     "metadata": {},
     "output_type": "execute_result"
    }
   ],
   "source": [
    "# Show df_content to get an idea of the data\n",
    "df_content.head()"
   ]
  },
  {
   "cell_type": "markdown",
   "metadata": {},
   "source": [
    "### <a class=\"anchor\" id=\"Exploratory-Data-Analysis\">Part I : Exploratory Data Analysis</a>\n",
    "\n",
    "Use the dictionary and cells below to provide some insight into the descriptive statistics of the data.\n",
    "\n",
    "`1.` What is the distribution of how many articles a user interacts with in the dataset?  Provide a visual and descriptive statistics to assist with giving a look at the number of times each user interacts with an article.  "
   ]
  },
  {
   "cell_type": "code",
   "execution_count": 4,
   "metadata": {},
   "outputs": [
    {
     "data": {
      "text/plain": [
       "Text(0, 0.5, 'Count of Users')"
      ]
     },
     "execution_count": 4,
     "metadata": {},
     "output_type": "execute_result"
    },
    {
     "data": {
      "image/png": "[encoded data removed]",
      "text/plain": [
       "<Figure size 640x480 with 1 Axes>"
      ]
     },
     "metadata": {},
     "output_type": "display_data"
    }
   ],
   "source": [
    "# user_interaction_count = uim.sum(axis=1) # number of interactions per user\n",
    "user_interaction_count = df.groupby(\"email\").count()[\n",
    "    \"article_id\"\n",
    "]  # number of interactions per user\n",
    "fig, ax = plt.subplots()\n",
    "sns.histplot(x=user_interaction_count, kde=False, bins=\"rice\", ax=ax)\n",
    "fig.suptitle(\"Number of Interactions per User Histogram\")\n",
    "ax.set_xlabel(\"Number of Interactions\")\n",
    "ax.set_ylabel(\"Count of Users\")"
   ]
  },
  {
   "cell_type": "code",
   "execution_count": 5,
   "metadata": {},
   "outputs": [],
   "source": [
    "# Fill in the median and maximum number of user_article interactios below\n",
    "\n",
    "median_val = int(\n",
    "    np.median(user_interaction_count)\n",
    ")  # 50% of individuals interact with ____ number of articles or fewer.\n",
    "max_views_by_user = int(\n",
    "    np.max(user_interaction_count)\n",
    ")  # The maximum number of user-article interactions by any 1 user is ______."
   ]
  },
  {
   "cell_type": "markdown",
   "metadata": {},
   "source": [
    "`2.` Explore and remove duplicate articles from the **df_content** dataframe.  "
   ]
  },
  {
   "cell_type": "code",
   "execution_count": 6,
   "metadata": {},
   "outputs": [
    {
     "data": {
      "text/plain": [
       "article_id\n",
       "221     2\n",
       "232     2\n",
       "50      2\n",
       "398     2\n",
       "577     2\n",
       "       ..\n",
       "357     1\n",
       "358     1\n",
       "359     1\n",
       "360     1\n",
       "1050    1\n",
       "Name: count, Length: 1051, dtype: int64"
      ]
     },
     "execution_count": 6,
     "metadata": {},
     "output_type": "execute_result"
    }
   ],
   "source": [
    "# Find and explore duplicate articles\n",
    "df_content[\"article_id\"].value_counts()"
   ]
  },
  {
   "cell_type": "code",
   "execution_count": 7,
   "metadata": {},
   "outputs": [],
   "source": [
    "# Remove any rows that have the same article_id - only keep the first\n",
    "df_content.drop_duplicates(\"article_id\", inplace=True)"
   ]
  },
  {
   "cell_type": "markdown",
   "metadata": {},
   "source": [
    "`3.` Use the cells below to find:\n",
    "\n",
    "**a.** The number of unique articles that have an interaction with a user.  \n",
    "**b.** The number of unique articles in the dataset (whether they have any interactions or not).<br>\n",
    "**c.** The number of unique users in the dataset. (excluding null values) <br>\n",
    "**d.** The number of user-article interactions in the dataset."
   ]
  },
  {
   "cell_type": "code",
   "execution_count": 8,
   "metadata": {},
   "outputs": [],
   "source": [
    "unique_articles = len(\n",
    "    df[\"article_id\"].value_counts()\n",
    ")  # The number of unique articles that have at least one interaction\n",
    "total_articles = int(\n",
    "    len(df_content)\n",
    ")  # The number of unique articles on the IBM platform\n",
    "unique_users = df[\"email\"].nunique()  # The number of unique users\n",
    "user_article_interactions = len(df)  # The number of user-article interactions"
   ]
  },
  {
   "cell_type": "markdown",
   "metadata": {},
   "source": [
    "`4.` Use the cells below to find the most viewed **article_id**, as well as how often it was viewed.  After talking to the company leaders, the `email_mapper` function was deemed a reasonable way to map users to ids.  There were a small number of null values, and it was found that all of these null values likely belonged to a single user (which is how they are stored using the function below)."
   ]
  },
  {
   "cell_type": "code",
   "execution_count": 9,
   "metadata": {},
   "outputs": [],
   "source": [
    "most_viewed_article_id = str(\n",
    "    df[\"article_id\"].value_counts(dropna=False).idxmax()\n",
    ")  # The most viewed article in the dataset as a string with one value following the decimal\n",
    "max_views = (\n",
    "    df[\"article_id\"].value_counts(dropna=False).max()\n",
    ")  # The most viewed article in the dataset was viewed how many times?"
   ]
  },
  {
   "cell_type": "code",
   "execution_count": 10,
   "metadata": {},
   "outputs": [
    {
     "data": {
      "text/html": [
       "<div>\n",
       "<style scoped>\n",
       "    .dataframe tbody tr th:only-of-type {\n",
       "        vertical-align: middle;\n",
       "    }\n",
       "\n",
       "    .dataframe tbody tr th {\n",
       "        vertical-align: top;\n",
       "    }\n",
       "\n",
       "    .dataframe thead th {\n",
       "        text-align: right;\n",
       "    }\n",
       "</style>\n",
       "<table border=\"1\" class=\"dataframe\">\n",
       "  <thead>\n",
       "    <tr style=\"text-align: right;\">\n",
       "      <th></th>\n",
       "      <th>article_id</th>\n",
       "      <th>title</th>\n",
       "      <th>user_id</th>\n",
       "    </tr>\n",
       "  </thead>\n",
       "  <tbody>\n",
       "    <tr>\n",
       "      <th>0</th>\n",
       "      <td>1430.0</td>\n",
       "      <td>using pixiedust for fast, flexible, and easier...</td>\n",
       "      <td>1</td>\n",
       "    </tr>\n",
       "    <tr>\n",
       "      <th>1</th>\n",
       "      <td>1314.0</td>\n",
       "      <td>healthcare python streaming application demo</td>\n",
       "      <td>2</td>\n",
       "    </tr>\n",
       "    <tr>\n",
       "      <th>2</th>\n",
       "      <td>1429.0</td>\n",
       "      <td>use deep learning for image classification</td>\n",
       "      <td>3</td>\n",
       "    </tr>\n",
       "    <tr>\n",
       "      <th>3</th>\n",
       "      <td>1338.0</td>\n",
       "      <td>ml optimization using cognitive assistant</td>\n",
       "      <td>4</td>\n",
       "    </tr>\n",
       "    <tr>\n",
       "      <th>4</th>\n",
       "      <td>1276.0</td>\n",
       "      <td>deploy your python model as a restful api</td>\n",
       "      <td>5</td>\n",
       "    </tr>\n",
       "  </tbody>\n",
       "</table>\n",
       "</div>"
      ],
      "text/plain": [
       "   article_id                                              title  user_id\n",
       "0      1430.0  using pixiedust for fast, flexible, and easier...        1\n",
       "1      1314.0       healthcare python streaming application demo        2\n",
       "2      1429.0         use deep learning for image classification        3\n",
       "3      1338.0          ml optimization using cognitive assistant        4\n",
       "4      1276.0          deploy your python model as a restful api        5"
      ]
     },
     "execution_count": 10,
     "metadata": {},
     "output_type": "execute_result"
    }
   ],
   "source": [
    "## No need to change the code here - this will be helpful for later parts of the notebook\n",
    "# Run this cell to map the user email to a user_id column and remove the email column\n",
    "\n",
    "\n",
    "def email_mapper():\n",
    "    coded_dict = dict()\n",
    "    cter = 1\n",
    "    email_encoded = []\n",
    "\n",
    "    for val in df[\"email\"]:\n",
    "        if val not in coded_dict:\n",
    "            coded_dict[val] = cter\n",
    "            cter += 1\n",
    "\n",
    "        email_encoded.append(coded_dict[val])\n",
    "    return email_encoded\n",
    "\n",
    "\n",
    "email_encoded = email_mapper()\n",
    "del df[\"email\"]\n",
    "df[\"user_id\"] = email_encoded\n",
    "\n",
    "# show header\n",
    "df.head()"
   ]
  },
  {
   "cell_type": "code",
   "execution_count": 11,
   "metadata": {},
   "outputs": [
    {
     "name": "stdout",
     "output_type": "stream",
     "text": [
      "It looks like you have everything right here! Nice job!\n"
     ]
    }
   ],
   "source": [
    "## If you stored all your results in the variable names above,\n",
    "## you shouldn't need to change anything in this cell\n",
    "\n",
    "sol_1_dict = {\n",
    "    \"`50% of individuals have _____ or fewer interactions.`\": median_val,\n",
    "    \"`The total number of user-article interactions in the dataset is ______.`\": user_article_interactions,\n",
    "    \"`The maximum number of user-article interactions by any 1 user is ______.`\": max_views_by_user,\n",
    "    \"`The most viewed article in the dataset was viewed _____ times.`\": max_views,\n",
    "    \"`The article_id of the most viewed article is ______.`\": most_viewed_article_id,\n",
    "    \"`The number of unique articles that have at least 1 rating ______.`\": unique_articles,\n",
    "    \"`The number of unique users in the dataset is ______`\": unique_users,\n",
    "    \"`The number of unique articles on the IBM platform`\": total_articles,\n",
    "}\n",
    "\n",
    "# Test your dictionary against the solution\n",
    "t.sol_1_test(sol_1_dict)"
   ]
  },
  {
   "cell_type": "markdown",
   "metadata": {},
   "source": [
    "### <a class=\"anchor\" id=\"Rank\">Part II: Rank-Based Recommendations</a>\n",
    "\n",
    "Unlike in the earlier lessons, we don't actually have ratings for whether a user liked an article or not.  We only know that a user has interacted with an article.  In these cases, the popularity of an article can really only be based on how often an article was interacted with.\n",
    "\n",
    "`1.` Fill in the function below to return the **n** top articles ordered with most interactions as the top. Test your function using the tests below."
   ]
  },
  {
   "cell_type": "code",
   "execution_count": 12,
   "metadata": {},
   "outputs": [],
   "source": [
    "def get_top_articles(n, df=df):\n",
    "    \"\"\"\n",
    "    INPUT:\n",
    "    n - (int) the number of top articles to return\n",
    "    df - (pandas dataframe) df as defined at the top of the notebook\n",
    "\n",
    "    OUTPUT:\n",
    "    top_articles - (list) A list of the top 'n' article titles\n",
    "\n",
    "    \"\"\"\n",
    "    # Your code here\n",
    "    # get titles for top n article ids\n",
    "    titles_by_article_id = df.loc[df[\"article_id\"].isin(get_top_article_ids(n))][\n",
    "        \"title\"\n",
    "    ]\n",
    "\n",
    "    # use sets to get unique titles and then change to a list\n",
    "    top_articles = set(titles_by_article_id)\n",
    "    top_articles = list(top_articles)\n",
    "\n",
    "    return top_articles  # Return the top article titles from df (not df_content)\n",
    "\n",
    "\n",
    "def get_top_article_ids(n, df=df):\n",
    "    \"\"\"\n",
    "    INPUT:\n",
    "    n - (int) the number of top articles to return\n",
    "    df - (pandas dataframe) df as defined at the top of the notebook\n",
    "\n",
    "    OUTPUT:\n",
    "    top_articles - (list) A list of the top 'n' article titles\n",
    "\n",
    "    \"\"\"\n",
    "    # Your code here\n",
    "    top_articles = df[\"article_id\"].value_counts().index\n",
    "    top_articles = list(top_articles[0:n])\n",
    "\n",
    "    return top_articles  # Return the top article ids"
   ]
  },
  {
   "cell_type": "code",
   "execution_count": 13,
   "metadata": {},
   "outputs": [
    {
     "name": "stdout",
     "output_type": "stream",
     "text": [
      "['use xgboost, scikit-learn & ibm watson machine learning apis', 'gosales transactions for logistic regression model', 'analyze energy consumption in buildings', 'insights from new york car accident reports', 'healthcare python streaming application demo', 'apache spark lab, part 1: basic concepts', 'predicting churn with the spss random tree algorithm', 'use deep learning for image classification', 'visualize car data with brunel', 'finding optimal locations of new store using decision optimization']\n",
      "[1429.0, 1330.0, 1431.0, 1427.0, 1364.0, 1314.0, 1293.0, 1170.0, 1162.0, 1304.0]\n"
     ]
    }
   ],
   "source": [
    "print(get_top_articles(10))\n",
    "print(get_top_article_ids(10))"
   ]
  },
  {
   "cell_type": "code",
   "execution_count": 14,
   "metadata": {},
   "outputs": [
    {
     "name": "stdout",
     "output_type": "stream",
     "text": [
      "Your top_5 looks like the solution list! Nice job.\n",
      "Your top_10 looks like the solution list! Nice job.\n",
      "Your top_20 looks like the solution list! Nice job.\n"
     ]
    }
   ],
   "source": [
    "# Test your function by returning the top 5, 10, and 20 articles\n",
    "top_5 = get_top_articles(5)\n",
    "top_10 = get_top_articles(10)\n",
    "top_20 = get_top_articles(20)\n",
    "\n",
    "# Test each of your three lists from above\n",
    "t.sol_2_test(get_top_articles)"
   ]
  },
  {
   "cell_type": "markdown",
   "metadata": {},
   "source": [
    "### <a class=\"anchor\" id=\"User-User\">Part III: User-User Based Collaborative Filtering</a>\n",
    "\n",
    "\n",
    "`1.` Use the function below to reformat the **df** dataframe to be shaped with users as the rows and articles as the columns.  \n",
    "\n",
    "* Each **user** should only appear in each **row** once.\n",
    "\n",
    "\n",
    "* Each **article** should only show up in one **column**.  \n",
    "\n",
    "\n",
    "* **If a user has interacted with an article, then place a 1 where the user-row meets for that article-column**.  It does not matter how many times a user has interacted with the article, all entries where a user has interacted with an article should be a 1.  \n",
    "\n",
    "\n",
    "* **If a user has not interacted with an item, then place a zero where the user-row meets for that article-column**. \n",
    "\n",
    "Use the tests to make sure the basic structure of your matrix matches what is expected by the solution."
   ]
  },
  {
   "cell_type": "code",
   "execution_count": 15,
   "metadata": {},
   "outputs": [],
   "source": [
    "# create the user-article matrix with 1's and 0's\n",
    "\n",
    "\n",
    "def create_user_item_matrix(df):\n",
    "    \"\"\"\n",
    "    INPUT:\n",
    "    df - pandas dataframe with article_id, title, user_id columns\n",
    "\n",
    "    OUTPUT:\n",
    "    user_item - user item matrix\n",
    "\n",
    "    Description:\n",
    "    Return a matrix with user ids as rows and article ids on the columns with 1 values where a user interacted with\n",
    "    an article and a 0 otherwise\n",
    "    \"\"\"\n",
    "    # Fill in the function here\n",
    "    # nunique will count the unique titles for a user_id + article ID combination (will always be 1)\n",
    "    # then unstack will pivot the article id index level to columns.\n",
    "    \n",
    "    user_item = (\n",
    "        df.groupby([\"user_id\", \"article_id\"])[\"title\"].nunique().unstack(fill_value=0.0)\n",
    "    )\n",
    "\n",
    "    return user_item  # return the user_item matrix\n",
    "\n",
    "\n",
    "user_item = create_user_item_matrix(df)"
   ]
  },
  {
   "cell_type": "code",
   "execution_count": 16,
   "metadata": {},
   "outputs": [
    {
     "name": "stdout",
     "output_type": "stream",
     "text": [
      "You have passed our quick tests!  Please proceed!\n"
     ]
    }
   ],
   "source": [
    "## Tests: You should just need to run this cell.  Don't change the code.\n",
    "assert (\n",
    "    user_item.shape[0] == 5149\n",
    "), \"Oops!  The number of users in the user-article matrix doesn't look right.\"\n",
    "assert (\n",
    "    user_item.shape[1] == 714\n",
    "), \"Oops!  The number of articles in the user-article matrix doesn't look right.\"\n",
    "assert (\n",
    "    user_item.sum(axis=1)[1] == 36\n",
    "), \"Oops!  The number of articles seen by user 1 doesn't look right.\"\n",
    "print(\"You have passed our quick tests!  Please proceed!\")"
   ]
  },
  {
   "cell_type": "markdown",
   "metadata": {},
   "source": [
    "`2.` Complete the function below which should take a user_id and provide an ordered list of the most similar users to that user (from most similar to least similar).  The returned result should not contain the provided user_id, as we know that each user is similar to him/herself. Because the results for each user here are binary, it (perhaps) makes sense to compute similarity as the dot product of two users. \n",
    "\n",
    "Use the tests to test your function."
   ]
  },
  {
   "cell_type": "code",
   "execution_count": 17,
   "metadata": {},
   "outputs": [],
   "source": [
    "def find_similar_users(user_id, user_item=user_item):\n",
    "    \"\"\"\n",
    "    INPUT:\n",
    "    user_id - (int) a user_id\n",
    "    user_item - (pandas dataframe) matrix of users by articles:\n",
    "                1's when a user has interacted with an article, 0 otherwise\n",
    "\n",
    "    OUTPUT:\n",
    "    similar_users - (list) an ordered list where the closest users (largest dot product users)\n",
    "                    are listed first\n",
    "\n",
    "    Description:\n",
    "    Computes the similarity of every pair of users based on the dot product\n",
    "    Returns an ordered\n",
    "\n",
    "    \"\"\"\n",
    "    # compute similarity of each user to the provided user\n",
    "    dot_prod_users = np.dot(user_item.loc[user_id], user_item.T)\n",
    "    similarity_series = pd.Series(data=dot_prod_users, index=user_item.index)\n",
    "\n",
    "    # sort by similarity\n",
    "    similarity_series.sort_values(ascending=False, inplace=True)\n",
    "\n",
    "    # remove the own user's id\n",
    "    similarity_series.drop(user_id, inplace=True)\n",
    "\n",
    "    # create list of just the ids\n",
    "    most_similar_users = list(similarity_series.index)\n",
    "    similarity_score = list(similarity_series.values)\n",
    "\n",
    "    return most_similar_users, similarity_score # return a list of the users in order from most to least similar"
   ]
  },
  {
   "cell_type": "code",
   "execution_count": 18,
   "metadata": {},
   "outputs": [
    {
     "name": "stdout",
     "output_type": "stream",
     "text": [
      "The 10 most similar users to user 1 are: [3933, 23, 3782, 203, 4459, 3870, 131, 4201, 46, 5041]\n",
      "The 5 most similar users to user 3933 are: [1, 23, 3782, 203, 4459]\n",
      "The 3 most similar users to user 46 are: [4201, 3782, 23]\n"
     ]
    }
   ],
   "source": [
    "# Do a spot check of your function\n",
    "print(\"The 10 most similar users to user 1 are: {}\".format(find_similar_users(1)[0][:10]))\n",
    "print(\n",
    "    \"The 5 most similar users to user 3933 are: {}\".format(find_similar_users(3933)[0][:5])\n",
    ")\n",
    "print(\"The 3 most similar users to user 46 are: {}\".format(find_similar_users(46)[0][:3]))"
   ]
  },
  {
   "cell_type": "markdown",
   "metadata": {},
   "source": [
    "`3.` Now that you have a function that provides the most similar users to each user, you will want to use these users to find articles you can recommend.  Complete the functions below to return the articles you would recommend to each user. "
   ]
  },
  {
   "cell_type": "code",
   "execution_count": 19,
   "metadata": {},
   "outputs": [],
   "source": [
    "def get_article_names(article_ids, df=df):\n",
    "    \"\"\"\n",
    "    INPUT:\n",
    "    article_ids - (list) a list of article ids\n",
    "    df - (pandas dataframe) df as defined at the top of the notebook\n",
    "\n",
    "    OUTPUT:\n",
    "    article_names - (list) a list of article names associated with the list of article ids\n",
    "                    (this is identified by the title column)\n",
    "    \"\"\"\n",
    "    # Your code here\n",
    "    # change strings to floats to pass assertion tests\n",
    "    article_ids = [float(i) for i in article_ids]\n",
    "\n",
    "    unique_article_names = set(\n",
    "        df.loc[df['article_id'].isin(article_ids)]['title']\n",
    "    )\n",
    "\n",
    "    article_names = list(unique_article_names)\n",
    "\n",
    "    return article_names  # Return the article names associated with list of article ids\n",
    "\n",
    "\n",
    "def get_user_articles(user_id, user_item=user_item):\n",
    "    \"\"\"\n",
    "    INPUT:\n",
    "    user_id - (int) a user id\n",
    "    user_item - (pandas dataframe) matrix of users by articles:\n",
    "                1's when a user has interacted with an article, 0 otherwise\n",
    "\n",
    "    OUTPUT:\n",
    "    article_ids - (list) a list of the article ids seen by the user\n",
    "    article_names - (list) a list of article names associated with the list of article ids\n",
    "                    (this is identified by the doc_full_name column in df_content)\n",
    "\n",
    "    Description:\n",
    "    Provides a list of the article_ids and article titles that have been seen by a user\n",
    "    \"\"\"\n",
    "    # Your code here\n",
    "    user_series = user_item.loc[user_id] # series for just that user\n",
    "    article_ids = user_series.loc[user_series == 1] # only get if user interacted with that article\n",
    "    article_ids = list(article_ids.index) # get the index which contains the article ids\n",
    "    article_ids = [str(i) for i in article_ids] # purely to pass assertion tests\n",
    "    \n",
    "    # get article names based on ids\n",
    "    article_names = get_article_names(article_ids)\n",
    "\n",
    "    return article_ids, article_names  # return the ids and names\n",
    "\n",
    "\n",
    "def user_user_recs(user_id, m=10):\n",
    "    \"\"\"\n",
    "    INPUT:\n",
    "    user_id - (int) a user id\n",
    "    m - (int) the number of recommendations you want for the user\n",
    "\n",
    "    OUTPUT:\n",
    "    recs - (list) a list of recommendations for the user\n",
    "\n",
    "    Description:\n",
    "    Loops through the users based on closeness to the input user_id\n",
    "    For each user - finds articles the user hasn't seen before and provides them as recs\n",
    "    Does this until m recommendations are found\n",
    "\n",
    "    Notes:\n",
    "    Users who are the same closeness are chosen arbitrarily as the 'next' user\n",
    "\n",
    "    For the user where the number of recommended articles starts below m\n",
    "    and ends exceeding m, the last items are chosen arbitrarily\n",
    "\n",
    "    \"\"\"\n",
    "    # Your code here\n",
    "    user_article_ids, _ = get_user_articles(user_id)\n",
    "    user_article_ids = np.array(user_article_ids)\n",
    "\n",
    "    recs = [] # initialize rec list\n",
    "    for neighbor in find_similar_users(user_id)[0]:\n",
    "        neighbor_article_ids, _ = get_user_articles(neighbor)\n",
    "        neighbor_article_ids = np.array(neighbor_article_ids)\n",
    "        new_to_user = np.setdiff1d(neighbor_article_ids, user_article_ids)\n",
    "        if new_to_user.size > 0:\n",
    "            # add titles to recs if they do not already exist in recs\n",
    "            recs.extend(np.setdiff1d(new_to_user, np.array(recs))) \n",
    "            if len(recs) >= m:\n",
    "                break\n",
    "\n",
    "\n",
    "\n",
    "    return recs[:m]  # return your recommendations for this user_id"
   ]
  },
  {
   "cell_type": "code",
   "execution_count": 20,
   "metadata": {},
   "outputs": [
    {
     "data": {
      "text/plain": [
       "['520    using notebooks with pixiedust for fast, flexi...\\nName: title, dtype: object',\n",
       " 'analyze energy consumption in buildings',\n",
       " 'a tensorflow regression model to predict house values',\n",
       " 'analyze facebook data using ibm watson and watson studio',\n",
       " 'airbnb data for analytics: vancouver listings',\n",
       " 'data tidying in data science experience',\n",
       " 'analyze accident reports on amazon emr spark',\n",
       " 'recommender systems: approaches & algorithms',\n",
       " '1448    i ranked every intro to data science course on...\\nName: title, dtype: object',\n",
       " 'airbnb data for analytics: mallorca reviews']"
      ]
     },
     "execution_count": 20,
     "metadata": {},
     "output_type": "execute_result"
    }
   ],
   "source": [
    "# Check Results\n",
    "get_article_names(user_user_recs(1, 10))  # Return 10 recommendations for user 1"
   ]
  },
  {
   "cell_type": "code",
   "execution_count": 21,
   "metadata": {},
   "outputs": [
    {
     "name": "stdout",
     "output_type": "stream",
     "text": [
      "If this is all you see, you passed all of our tests!  Nice job!\n"
     ]
    }
   ],
   "source": [
    "# Test your functions here - No need to change this code - just run this cell\n",
    "assert set(\n",
    "    get_article_names([\"1024.0\", \"1176.0\", \"1305.0\", \"1314.0\", \"1422.0\", \"1427.0\"])\n",
    ") == set(\n",
    "    [\n",
    "        \"using deep learning to reconstruct high-resolution audio\",\n",
    "        \"build a python app on the streaming analytics service\",\n",
    "        \"gosales transactions for naive bayes model\",\n",
    "        \"healthcare python streaming application demo\",\n",
    "        \"use r dataframes & ibm watson natural language understanding\",\n",
    "        \"use xgboost, scikit-learn & ibm watson machine learning apis\",\n",
    "    ]\n",
    "), \"Oops! Your the get_article_names function doesn't work quite how we expect.\"\n",
    "assert set(get_article_names([\"1320.0\", \"232.0\", \"844.0\"])) == set(\n",
    "    [\n",
    "        \"housing (2015): united states demographic measures\",\n",
    "        \"self-service data preparation with ibm data refinery\",\n",
    "        \"use the cloudant-spark connector in python notebook\",\n",
    "    ]\n",
    "), \"Oops! Your the get_article_names function doesn't work quite how we expect.\"\n",
    "assert set(get_user_articles(20)[0]) == set([\"1320.0\", \"232.0\", \"844.0\"])\n",
    "assert set(get_user_articles(20)[1]) == set(\n",
    "    [\n",
    "        \"housing (2015): united states demographic measures\",\n",
    "        \"self-service data preparation with ibm data refinery\",\n",
    "        \"use the cloudant-spark connector in python notebook\",\n",
    "    ]\n",
    ")\n",
    "assert set(get_user_articles(2)[0]) == set(\n",
    "    [\"1024.0\", \"1176.0\", \"1305.0\", \"1314.0\", \"1422.0\", \"1427.0\"]\n",
    ")\n",
    "assert set(get_user_articles(2)[1]) == set(\n",
    "    [\n",
    "        \"using deep learning to reconstruct high-resolution audio\",\n",
    "        \"build a python app on the streaming analytics service\",\n",
    "        \"gosales transactions for naive bayes model\",\n",
    "        \"healthcare python streaming application demo\",\n",
    "        \"use r dataframes & ibm watson natural language understanding\",\n",
    "        \"use xgboost, scikit-learn & ibm watson machine learning apis\",\n",
    "    ]\n",
    ")\n",
    "print(\"If this is all you see, you passed all of our tests!  Nice job!\")"
   ]
  },
  {
   "cell_type": "markdown",
   "metadata": {},
   "source": [
    "`4.` Now we are going to improve the consistency of the **user_user_recs** function from above.  \n",
    "\n",
    "* Instead of arbitrarily choosing when we obtain users who are all the same closeness to a given user - choose the users that have the most total article interactions before choosing those with fewer article interactions.\n",
    "\n",
    "\n",
    "* Instead of arbitrarily choosing articles from the user where the number of recommended articles starts below m and ends exceeding m, choose articles with the articles with the most total interactions before choosing those with fewer total interactions. This ranking should be  what would be obtained from the **top_articles** function you wrote earlier."
   ]
  },
  {
   "cell_type": "code",
   "execution_count": 22,
   "metadata": {},
   "outputs": [
    {
     "data": {
      "text/html": [
       "<div>\n",
       "<style scoped>\n",
       "    .dataframe tbody tr th:only-of-type {\n",
       "        vertical-align: middle;\n",
       "    }\n",
       "\n",
       "    .dataframe tbody tr th {\n",
       "        vertical-align: top;\n",
       "    }\n",
       "\n",
       "    .dataframe thead th {\n",
       "        text-align: right;\n",
       "    }\n",
       "</style>\n",
       "<table border=\"1\" class=\"dataframe\">\n",
       "  <thead>\n",
       "    <tr style=\"text-align: right;\">\n",
       "      <th></th>\n",
       "      <th>user_id</th>\n",
       "      <th>num_interactions</th>\n",
       "    </tr>\n",
       "  </thead>\n",
       "  <tbody>\n",
       "    <tr>\n",
       "      <th>0</th>\n",
       "      <td>1</td>\n",
       "      <td>47</td>\n",
       "    </tr>\n",
       "    <tr>\n",
       "      <th>1</th>\n",
       "      <td>2</td>\n",
       "      <td>6</td>\n",
       "    </tr>\n",
       "    <tr>\n",
       "      <th>2</th>\n",
       "      <td>3</td>\n",
       "      <td>82</td>\n",
       "    </tr>\n",
       "    <tr>\n",
       "      <th>3</th>\n",
       "      <td>4</td>\n",
       "      <td>45</td>\n",
       "    </tr>\n",
       "    <tr>\n",
       "      <th>4</th>\n",
       "      <td>5</td>\n",
       "      <td>5</td>\n",
       "    </tr>\n",
       "  </tbody>\n",
       "</table>\n",
       "</div>"
      ],
      "text/plain": [
       "   user_id  num_interactions\n",
       "0        1                47\n",
       "1        2                 6\n",
       "2        3                82\n",
       "3        4                45\n",
       "4        5                 5"
      ]
     },
     "execution_count": 22,
     "metadata": {},
     "output_type": "execute_result"
    }
   ],
   "source": [
    "# calculate number of interactions by user_id\n",
    "num_interactions = (\n",
    "    df[[\"user_id\", \"article_id\"]].groupby(\"user_id\", sort=False, as_index=False).count()\n",
    ")\n",
    "num_interactions.rename(columns={\"article_id\": \"num_interactions\"}, inplace=True)\n",
    "num_interactions.head()"
   ]
  },
  {
   "cell_type": "code",
   "execution_count": 23,
   "metadata": {},
   "outputs": [],
   "source": [
    "def get_top_sorted_users(\n",
    "    user_id, df=df, user_item=user_item, num_interactions=num_interactions\n",
    "):\n",
    "    \"\"\"\n",
    "    INPUT:\n",
    "    user_id - (int)\n",
    "    df - (pandas dataframe) df as defined at the top of the notebook\n",
    "    user_item - (pandas dataframe) matrix of users by articles:\n",
    "            1's when a user has interacted with an article, 0 otherwise\n",
    "    num_interactions - (pandas dataframe) this is the number of interactions per user.\n",
    "            This will be used to break ties on similarity.\n",
    "\n",
    "\n",
    "    OUTPUT:\n",
    "    neighbors_df - (pandas dataframe) a dataframe with:\n",
    "                    neighbor_id - is a neighbor user_id\n",
    "                    similarity - measure of the similarity of each user to the provided user_id\n",
    "                    num_interactions - the number of articles viewed by the user - if a u\n",
    "\n",
    "    Other Details - sort the neighbors_df by the similarity and then by number of interactions where\n",
    "                    highest of each is higher in the dataframe\n",
    "\n",
    "    \"\"\"\n",
    "    # Your code here\n",
    "\n",
    "    # create a dataframe containing the users that are similar along with similarity score\n",
    "    similar_users = find_similar_users(user_id)[0]\n",
    "    similar_user_score = find_similar_users(user_id)[1]\n",
    "    similarity_df = pd.DataFrame(\n",
    "        {\"neighbor_id\": similar_users, \"similarity\": similar_user_score}\n",
    "    )\n",
    "\n",
    "    # join in the number of interactions for each neighbor\n",
    "    neighbors_df = similarity_df.merge(\n",
    "        num_interactions, how=\"left\", left_on=\"neighbor_id\", right_on=\"user_id\"\n",
    "    )\n",
    "    neighbors_df.drop(columns=[\"user_id\"], inplace=True)\n",
    "    neighbors_df.sort_values(\n",
    "        by=[\"similarity\", \"num_interactions\"], ascending=[False, False], inplace=True\n",
    "    )\n",
    "\n",
    "    return neighbors_df  # Return the dataframe specified in the doc_string\n",
    "\n",
    "\n",
    "def user_user_recs_part2(user_id, m=10, df=df):\n",
    "    \"\"\"\n",
    "    INPUT:\n",
    "    user_id - (int) a user id\n",
    "    m - (int) the number of recommendations you want for the user\n",
    "\n",
    "    OUTPUT:\n",
    "    recs - (list) a list of recommendations for the user by article id\n",
    "    rec_names - (list) a list of recommendations for the user by article title\n",
    "\n",
    "    Description:\n",
    "    Loops through the users based on closeness to the input user_id\n",
    "    For each user - finds articles the user hasn't seen before and provides them as recs\n",
    "    Does this until m recommendations are found\n",
    "\n",
    "    Notes:\n",
    "    * Choose the users that have the most total article interactions\n",
    "    before choosing those with fewer article interactions.\n",
    "\n",
    "    * Choose articles with the articles with the most total interactions\n",
    "    before choosing those with fewer total interactions.\n",
    "\n",
    "    \"\"\"\n",
    "    # Your code here\n",
    "\n",
    "    user_article_ids, _ = get_user_articles(user_id)\n",
    "    user_article_ids = np.array(user_article_ids)\n",
    "    top_articles = get_top_article_ids(len(df))\n",
    "\n",
    "    # list of closes users\n",
    "    closest_neighbors = list(get_top_sorted_users(user_id)['neighbor_id']) \n",
    "\n",
    "    recs = [] # initialize rec list\n",
    "    for neighbor in closest_neighbors:\n",
    "        neighbor_article_ids, _ = get_user_articles(neighbor)\n",
    "        neighbor_article_ids = np.array(neighbor_article_ids)\n",
    "        new_to_user = np.setdiff1d(neighbor_article_ids, user_article_ids)\n",
    "        if new_to_user.size > 0:            \n",
    "            # sort the list by most interacted\n",
    "            new_to_user = sorted(new_to_user, key = lambda rec: top_articles.index(float(rec)))\n",
    "            \n",
    "            # add titles to recs if they do not already exist in recs\n",
    "            recs.extend(np.setdiff1d(new_to_user, np.array(recs))) \n",
    "        if len(recs) >= m:\n",
    "            break\n",
    "\n",
    "    rec_names = get_article_names([float(i) for i in recs[:m]], df)\n",
    "\n",
    "    return recs[:m], rec_names"
   ]
  },
  {
   "cell_type": "code",
   "execution_count": 24,
   "metadata": {},
   "outputs": [
    {
     "name": "stdout",
     "output_type": "stream",
     "text": [
      "The top 10 recommendations for user 20 are the following article ids:\n",
      "['1024.0', '1085.0', '109.0', '1150.0', '1151.0', '1152.0', '1153.0', '1154.0', '1157.0', '1160.0']\n",
      "\n",
      "The top 10 recommendations for user 20 are the following article names:\n",
      "['airbnb data for analytics: venice listings', 'airbnb data for analytics: venice reviews', 'using deep learning to reconstruct high-resolution audio', 'tensorflow quick tips', 'airbnb data for analytics: vienna listings', 'airbnb data for analytics: washington d.c. listings', 'airbnb data for analytics: chicago listings', 'airbnb data for analytics: venice calendar', 'airbnb data for analytics: vienna calendar', 'analyze accident reports on amazon emr spark']\n"
     ]
    }
   ],
   "source": [
    "# Quick spot check - don't change this code - just use it to test your functions\n",
    "rec_ids, rec_names = user_user_recs_part2(20, 10)\n",
    "print(\"The top 10 recommendations for user 20 are the following article ids:\")\n",
    "print(rec_ids)\n",
    "print()\n",
    "print(\"The top 10 recommendations for user 20 are the following article names:\")\n",
    "print(rec_names)"
   ]
  },
  {
   "cell_type": "markdown",
   "metadata": {},
   "source": [
    "`5.` Use your functions from above to correctly fill in the solutions to the dictionary below.  Then test your dictionary against the solution.  Provide the code you need to answer each following the comments below."
   ]
  },
  {
   "cell_type": "code",
   "execution_count": 25,
   "metadata": {},
   "outputs": [],
   "source": [
    "### Tests with a dictionary of results\n",
    "\n",
    "user1_most_sim = get_top_sorted_users(1)['neighbor_id'].iloc[0] # Find the user that is most similar to user 1 \n",
    "user131_10th_sim = get_top_sorted_users(131)['neighbor_id'].iloc[9] # Find the 10th most similar user to user 131"
   ]
  },
  {
   "cell_type": "code",
   "execution_count": 26,
   "metadata": {},
   "outputs": [
    {
     "name": "stdout",
     "output_type": "stream",
     "text": [
      "This all looks good!  Nice job!\n"
     ]
    }
   ],
   "source": [
    "## Dictionary Test Here\n",
    "sol_5_dict = {\n",
    "    \"The user that is most similar to user 1.\": user1_most_sim,\n",
    "    \"The user that is the 10th most similar to user 131\": user131_10th_sim,\n",
    "}\n",
    "\n",
    "t.sol_5_test(sol_5_dict)"
   ]
  },
  {
   "cell_type": "markdown",
   "metadata": {},
   "source": [
    "`6.` If we were given a new user, which of the above functions would you be able to use to make recommendations?  Explain.  Can you think of a better way we might make recommendations?  Use the cell below to explain a better method for new users."
   ]
  },
  {
   "cell_type": "markdown",
   "metadata": {},
   "source": [
    "**Provide your response here.**\n",
    "\n",
    "If we were given a new user, the function get_top_articles (or get_top_article_ids) could be used to make recommendations.  This would just return the articles with the most interactions.  This may not be the best way because we have no information on what types of artilces the new user may be interested in.\n",
    "\n",
    "One better way to make recommendations for a new user would be to use Knowledge Based Recommendations.  Using this method would allow the new user to filter the top recommendations based on things like key words in the title, doc_description.  We could also use text analysis machine learning on the doc_body field to further categorize the documents and then allow the user to filter on these newly created catgeories."
   ]
  },
  {
   "cell_type": "markdown",
   "metadata": {},
   "source": [
    "`7.` Using your existing functions, provide the top 10 recommended articles you would provide for the a new user below.  You can test your function against our thoughts to make sure we are all on the same page with how we might make a recommendation."
   ]
  },
  {
   "cell_type": "code",
   "execution_count": 27,
   "metadata": {},
   "outputs": [],
   "source": [
    "new_user = '0.0'\n",
    "\n",
    "# What would your recommendations be for this new user '0.0'?  As a new user, they have no observed articles.\n",
    "# Provide a list of the top 10 article ids you would give to \n",
    "new_user_recs = [str(i) for i in get_top_article_ids(10)] # convert to string to pass test\n"
   ]
  },
  {
   "cell_type": "code",
   "execution_count": 28,
   "metadata": {},
   "outputs": [
    {
     "name": "stdout",
     "output_type": "stream",
     "text": [
      "That's right!  Nice job!\n"
     ]
    }
   ],
   "source": [
    "assert set(new_user_recs) == set(\n",
    "    [\n",
    "        \"1314.0\",\n",
    "        \"1429.0\",\n",
    "        \"1293.0\",\n",
    "        \"1427.0\",\n",
    "        \"1162.0\",\n",
    "        \"1364.0\",\n",
    "        \"1304.0\",\n",
    "        \"1170.0\",\n",
    "        \"1431.0\",\n",
    "        \"1330.0\",\n",
    "    ]\n",
    "), \"Oops!  It makes sense that in this case we would want to recommend the most popular articles, because we don't know anything about these users.\"\n",
    "\n",
    "print(\"That's right!  Nice job!\")"
   ]
  },
  {
   "cell_type": "markdown",
   "metadata": {},
   "source": [
    "### <a class=\"anchor\" id=\"Content-Recs\">Part IV: Content Based Recommendations (EXTRA - NOT REQUIRED)</a>\n",
    "\n",
    "Another method we might use to make recommendations is to perform a ranking of the highest ranked articles associated with some term.  You might consider content to be the **doc_body**, **doc_description**, or **doc_full_name**.  There isn't one way to create a content based recommendation, especially considering that each of these columns hold content related information.  \n",
    "\n",
    "`1.` Use the function body below to create a content based recommender.  Since there isn't one right answer for this recommendation tactic, no test functions are provided.  Feel free to change the function inputs if you decide you want to try a method that requires more input values.  The input values are currently set with one idea in mind that you may use to make content based recommendations.  One additional idea is that you might want to choose the most popular recommendations that meet your 'content criteria', but again, there is a lot of flexibility in how you might make these recommendations.\n",
    "\n",
    "### This part is NOT REQUIRED to pass this project.  However, you may choose to take this on as an extra way to show off your skills."
   ]
  },
  {
   "cell_type": "code",
   "execution_count": 29,
   "metadata": {},
   "outputs": [],
   "source": [
    "def make_content_recs():\n",
    "    \"\"\"\n",
    "    INPUT:\n",
    "\n",
    "    OUTPUT:\n",
    "\n",
    "    \"\"\""
   ]
  },
  {
   "cell_type": "markdown",
   "metadata": {},
   "source": [
    "`2.` Now that you have put together your content-based recommendation system, use the cell below to write a summary explaining how your content based recommender works.  Do you see any possible improvements that could be made to your function?  Is there anything novel about your content based recommender?\n",
    "\n",
    "### This part is NOT REQUIRED to pass this project.  However, you may choose to take this on as an extra way to show off your skills."
   ]
  },
  {
   "cell_type": "markdown",
   "metadata": {},
   "source": [
    "**Write an explanation of your content based recommendation system here.**"
   ]
  },
  {
   "cell_type": "markdown",
   "metadata": {},
   "source": [
    "`3.` Use your content-recommendation system to make recommendations for the below scenarios based on the comments.  Again no tests are provided here, because there isn't one right answer that could be used to find these content based recommendations.\n",
    "\n",
    "### This part is NOT REQUIRED to pass this project.  However, you may choose to take this on as an extra way to show off your skills."
   ]
  },
  {
   "cell_type": "code",
   "execution_count": 30,
   "metadata": {},
   "outputs": [],
   "source": [
    "# make recommendations for a brand new user\n",
    "\n",
    "\n",
    "# make a recommendations for a user who only has interacted with article id '1427.0'"
   ]
  },
  {
   "cell_type": "markdown",
   "metadata": {},
   "source": [
    "### <a class=\"anchor\" id=\"Matrix-Fact\">Part V: Matrix Factorization</a>\n",
    "\n",
    "In this part of the notebook, you will build use matrix factorization to make article recommendations to the users on the IBM Watson Studio platform.\n",
    "\n",
    "`1.` You should have already created a **user_item** matrix above in **question 1** of **Part III** above.  This first question here will just require that you run the cells to get things set up for the rest of **Part V** of the notebook. "
   ]
  },
  {
   "cell_type": "code",
   "execution_count": 31,
   "metadata": {},
   "outputs": [],
   "source": [
    "# Load the matrix here\n",
    "user_item_matrix = pd.read_pickle(\"user_item_matrix.p\")"
   ]
  },
  {
   "cell_type": "code",
   "execution_count": 32,
   "metadata": {},
   "outputs": [
    {
     "data": {
      "text/html": [
       "<div>\n",
       "<style scoped>\n",
       "    .dataframe tbody tr th:only-of-type {\n",
       "        vertical-align: middle;\n",
       "    }\n",
       "\n",
       "    .dataframe tbody tr th {\n",
       "        vertical-align: top;\n",
       "    }\n",
       "\n",
       "    .dataframe thead th {\n",
       "        text-align: right;\n",
       "    }\n",
       "</style>\n",
       "<table border=\"1\" class=\"dataframe\">\n",
       "  <thead>\n",
       "    <tr style=\"text-align: right;\">\n",
       "      <th>article_id</th>\n",
       "      <th>0.0</th>\n",
       "      <th>100.0</th>\n",
       "      <th>1000.0</th>\n",
       "      <th>1004.0</th>\n",
       "      <th>1006.0</th>\n",
       "      <th>1008.0</th>\n",
       "      <th>101.0</th>\n",
       "      <th>1014.0</th>\n",
       "      <th>1015.0</th>\n",
       "      <th>1016.0</th>\n",
       "      <th>...</th>\n",
       "      <th>977.0</th>\n",
       "      <th>98.0</th>\n",
       "      <th>981.0</th>\n",
       "      <th>984.0</th>\n",
       "      <th>985.0</th>\n",
       "      <th>986.0</th>\n",
       "      <th>990.0</th>\n",
       "      <th>993.0</th>\n",
       "      <th>996.0</th>\n",
       "      <th>997.0</th>\n",
       "    </tr>\n",
       "    <tr>\n",
       "      <th>user_id</th>\n",
       "      <th></th>\n",
       "      <th></th>\n",
       "      <th></th>\n",
       "      <th></th>\n",
       "      <th></th>\n",
       "      <th></th>\n",
       "      <th></th>\n",
       "      <th></th>\n",
       "      <th></th>\n",
       "      <th></th>\n",
       "      <th></th>\n",
       "      <th></th>\n",
       "      <th></th>\n",
       "      <th></th>\n",
       "      <th></th>\n",
       "      <th></th>\n",
       "      <th></th>\n",
       "      <th></th>\n",
       "      <th></th>\n",
       "      <th></th>\n",
       "      <th></th>\n",
       "    </tr>\n",
       "  </thead>\n",
       "  <tbody>\n",
       "    <tr>\n",
       "      <th>1</th>\n",
       "      <td>0.0</td>\n",
       "      <td>0.0</td>\n",
       "      <td>0.0</td>\n",
       "      <td>0.0</td>\n",
       "      <td>0.0</td>\n",
       "      <td>0.0</td>\n",
       "      <td>0.0</td>\n",
       "      <td>0.0</td>\n",
       "      <td>0.0</td>\n",
       "      <td>0.0</td>\n",
       "      <td>...</td>\n",
       "      <td>0.0</td>\n",
       "      <td>0.0</td>\n",
       "      <td>1.0</td>\n",
       "      <td>0.0</td>\n",
       "      <td>0.0</td>\n",
       "      <td>0.0</td>\n",
       "      <td>0.0</td>\n",
       "      <td>0.0</td>\n",
       "      <td>0.0</td>\n",
       "      <td>0.0</td>\n",
       "    </tr>\n",
       "    <tr>\n",
       "      <th>2</th>\n",
       "      <td>0.0</td>\n",
       "      <td>0.0</td>\n",
       "      <td>0.0</td>\n",
       "      <td>0.0</td>\n",
       "      <td>0.0</td>\n",
       "      <td>0.0</td>\n",
       "      <td>0.0</td>\n",
       "      <td>0.0</td>\n",
       "      <td>0.0</td>\n",
       "      <td>0.0</td>\n",
       "      <td>...</td>\n",
       "      <td>0.0</td>\n",
       "      <td>0.0</td>\n",
       "      <td>0.0</td>\n",
       "      <td>0.0</td>\n",
       "      <td>0.0</td>\n",
       "      <td>0.0</td>\n",
       "      <td>0.0</td>\n",
       "      <td>0.0</td>\n",
       "      <td>0.0</td>\n",
       "      <td>0.0</td>\n",
       "    </tr>\n",
       "    <tr>\n",
       "      <th>3</th>\n",
       "      <td>0.0</td>\n",
       "      <td>0.0</td>\n",
       "      <td>0.0</td>\n",
       "      <td>0.0</td>\n",
       "      <td>0.0</td>\n",
       "      <td>0.0</td>\n",
       "      <td>0.0</td>\n",
       "      <td>0.0</td>\n",
       "      <td>0.0</td>\n",
       "      <td>0.0</td>\n",
       "      <td>...</td>\n",
       "      <td>1.0</td>\n",
       "      <td>0.0</td>\n",
       "      <td>0.0</td>\n",
       "      <td>0.0</td>\n",
       "      <td>0.0</td>\n",
       "      <td>0.0</td>\n",
       "      <td>0.0</td>\n",
       "      <td>0.0</td>\n",
       "      <td>0.0</td>\n",
       "      <td>0.0</td>\n",
       "    </tr>\n",
       "    <tr>\n",
       "      <th>4</th>\n",
       "      <td>0.0</td>\n",
       "      <td>0.0</td>\n",
       "      <td>0.0</td>\n",
       "      <td>0.0</td>\n",
       "      <td>0.0</td>\n",
       "      <td>0.0</td>\n",
       "      <td>0.0</td>\n",
       "      <td>0.0</td>\n",
       "      <td>0.0</td>\n",
       "      <td>0.0</td>\n",
       "      <td>...</td>\n",
       "      <td>0.0</td>\n",
       "      <td>0.0</td>\n",
       "      <td>0.0</td>\n",
       "      <td>0.0</td>\n",
       "      <td>0.0</td>\n",
       "      <td>0.0</td>\n",
       "      <td>0.0</td>\n",
       "      <td>0.0</td>\n",
       "      <td>0.0</td>\n",
       "      <td>0.0</td>\n",
       "    </tr>\n",
       "    <tr>\n",
       "      <th>5</th>\n",
       "      <td>0.0</td>\n",
       "      <td>0.0</td>\n",
       "      <td>0.0</td>\n",
       "      <td>0.0</td>\n",
       "      <td>0.0</td>\n",
       "      <td>0.0</td>\n",
       "      <td>0.0</td>\n",
       "      <td>0.0</td>\n",
       "      <td>0.0</td>\n",
       "      <td>0.0</td>\n",
       "      <td>...</td>\n",
       "      <td>0.0</td>\n",
       "      <td>0.0</td>\n",
       "      <td>0.0</td>\n",
       "      <td>0.0</td>\n",
       "      <td>0.0</td>\n",
       "      <td>0.0</td>\n",
       "      <td>0.0</td>\n",
       "      <td>0.0</td>\n",
       "      <td>0.0</td>\n",
       "      <td>0.0</td>\n",
       "    </tr>\n",
       "  </tbody>\n",
       "</table>\n",
       "<p>5 rows × 714 columns</p>\n",
       "</div>"
      ],
      "text/plain": [
       "article_id  0.0  100.0  1000.0  1004.0  1006.0  1008.0  101.0  1014.0  1015.0  \\\n",
       "user_id                                                                         \n",
       "1           0.0    0.0     0.0     0.0     0.0     0.0    0.0     0.0     0.0   \n",
       "2           0.0    0.0     0.0     0.0     0.0     0.0    0.0     0.0     0.0   \n",
       "3           0.0    0.0     0.0     0.0     0.0     0.0    0.0     0.0     0.0   \n",
       "4           0.0    0.0     0.0     0.0     0.0     0.0    0.0     0.0     0.0   \n",
       "5           0.0    0.0     0.0     0.0     0.0     0.0    0.0     0.0     0.0   \n",
       "\n",
       "article_id  1016.0  ...  977.0  98.0  981.0  984.0  985.0  986.0  990.0  \\\n",
       "user_id             ...                                                   \n",
       "1              0.0  ...    0.0   0.0    1.0    0.0    0.0    0.0    0.0   \n",
       "2              0.0  ...    0.0   0.0    0.0    0.0    0.0    0.0    0.0   \n",
       "3              0.0  ...    1.0   0.0    0.0    0.0    0.0    0.0    0.0   \n",
       "4              0.0  ...    0.0   0.0    0.0    0.0    0.0    0.0    0.0   \n",
       "5              0.0  ...    0.0   0.0    0.0    0.0    0.0    0.0    0.0   \n",
       "\n",
       "article_id  993.0  996.0  997.0  \n",
       "user_id                          \n",
       "1             0.0    0.0    0.0  \n",
       "2             0.0    0.0    0.0  \n",
       "3             0.0    0.0    0.0  \n",
       "4             0.0    0.0    0.0  \n",
       "5             0.0    0.0    0.0  \n",
       "\n",
       "[5 rows x 714 columns]"
      ]
     },
     "execution_count": 32,
     "metadata": {},
     "output_type": "execute_result"
    }
   ],
   "source": [
    "# quick look at the matrix\n",
    "user_item_matrix.head()"
   ]
  },
  {
   "cell_type": "markdown",
   "metadata": {},
   "source": [
    "`2.` In this situation, you can use Singular Value Decomposition from [numpy](https://docs.scipy.org/doc/numpy-1.14.0/reference/generated/numpy.linalg.svd.html) on the user-item matrix.  Use the cell to perform SVD, and explain why this is different than in the lesson."
   ]
  },
  {
   "cell_type": "code",
   "execution_count": 33,
   "metadata": {},
   "outputs": [],
   "source": [
    "# Perform SVD on the User-Item Matrix Here\n",
    "\n",
    "u, s, vt = np.linalg.svd(user_item_matrix) # use the built in to get the three matrices"
   ]
  },
  {
   "cell_type": "markdown",
   "metadata": {},
   "source": [
    "**Provide your response here.**\n",
    "\n",
    "In the lesson if the user-item matrix is shape n x k, where n = # of users and k = # of aritcles, then the SVD matricies should have shapes:\n",
    "* u =  n x p  - where p = the number of latent features kept out of the total possible k, this matrix describes each users relationship to the latent features associated with the articles.\n",
    "* s = p x p  - Sigma is always the same # of rows and columns as the # of latent factors that were kept.  The diagonal values help decide how many latent factors to keep.\n",
    "* vt = p x k - Vt describes the latent feature / movie interaction effect.\n",
    "\n",
    "Using the numpy formula yields the shapes of:\n",
    "* u = n x n\n",
    "* s = k (1d array)\n",
    "* vt = k x k\n",
    "\n",
    "These matricies would need to be reshaped to match the SVD matrix used in the lesson"
   ]
  },
  {
   "cell_type": "markdown",
   "metadata": {},
   "source": [
    "`3.` Now for the tricky part, how do we choose the number of latent features to use?  Running the below cell, you can see that as the number of latent features increases, we obtain a lower error rate on making predictions for the 1 and 0 values in the user-item matrix.  Run the cell below to get an idea of how the accuracy improves as we increase the number of latent features."
   ]
  },
  {
   "cell_type": "code",
   "execution_count": 34,
   "metadata": {},
   "outputs": [
    {
     "name": "stderr",
     "output_type": "stream",
     "text": [
      "/home/cb/miniconda3/envs/IBM/lib/python3.12/site-packages/numpy/core/fromnumeric.py:86: FutureWarning: The behavior of DataFrame.sum with axis=None is deprecated, in a future version this will reduce over both axes and return a scalar. To retain the old behavior, pass axis=0 (or do not pass axis)\n",
      "  return reduction(axis=axis, out=out, **passkwargs)\n"
     ]
    },
    {
     "data": {
      "text/plain": [
       "Text(0.5, 1.0, 'Accuracy vs. Number of Latent Features')"
      ]
     },
     "execution_count": 34,
     "metadata": {},
     "output_type": "execute_result"
    },
    {
     "data": {
      "image/png": "[encoded data removed]",
      "text/plain": [
       "<Figure size 640x480 with 1 Axes>"
      ]
     },
     "metadata": {},
     "output_type": "display_data"
    }
   ],
   "source": [
    "num_latent_feats = np.arange(10, 700 + 10, 20)\n",
    "sum_errs = []\n",
    "\n",
    "for k in num_latent_feats:\n",
    "    # restructure with k latent features\n",
    "    s_new, u_new, vt_new = np.diag(s[:k]), u[:, :k], vt[:k, :]\n",
    "\n",
    "    # take dot product\n",
    "    user_item_est = np.around(np.dot(np.dot(u_new, s_new), vt_new))\n",
    "\n",
    "    # compute error for each prediction to actual value\n",
    "    diffs = np.subtract(user_item_matrix, user_item_est)\n",
    "\n",
    "    # total errors and keep track of them\n",
    "    err = np.sum(np.sum(np.abs(diffs)))\n",
    "    sum_errs.append(err)\n",
    "\n",
    "\n",
    "plt.plot(num_latent_feats, 1 - np.array(sum_errs) / df.shape[0])\n",
    "plt.xlabel(\"Number of Latent Features\")\n",
    "plt.ylabel(\"Accuracy\")\n",
    "plt.title(\"Accuracy vs. Number of Latent Features\")"
   ]
  },
  {
   "cell_type": "markdown",
   "metadata": {},
   "source": [
    "`4.` From the above, we can't really be sure how many features to use, because simply having a better way to predict the 1's and 0's of the matrix doesn't exactly give us an indication of if we are able to make good recommendations.  Instead, we might split our dataset into a training and test set of data, as shown in the cell below.  \n",
    "\n",
    "Use the code from question 3 to understand the impact on accuracy of the training and test sets of data with different numbers of latent features. Using the split below: \n",
    "\n",
    "* How many users can we make predictions for in the test set?  \n",
    "* How many users are we not able to make predictions for because of the cold start problem?\n",
    "* How many articles can we make predictions for in the test set?  \n",
    "* How many articles are we not able to make predictions for because of the cold start problem?"
   ]
  },
  {
   "cell_type": "code",
   "execution_count": 35,
   "metadata": {},
   "outputs": [],
   "source": [
    "df_train = df.head(40000)\n",
    "df_test = df.tail(5993)\n",
    "\n",
    "\n",
    "def create_test_and_train_user_item(df_train, df_test):\n",
    "    \"\"\"\n",
    "    INPUT:\n",
    "    df_train - training dataframe\n",
    "    df_test - test dataframe\n",
    "\n",
    "    OUTPUT:\n",
    "    user_item_train - a user-item matrix of the training dataframe\n",
    "                      (unique users for each row and unique articles for each column)\n",
    "    user_item_test - a user-item matrix of the testing dataframe\n",
    "                    (unique users for each row and unique articles for each column)\n",
    "    test_idx - all of the test user ids\n",
    "    test_arts - all of the test article ids\n",
    "\n",
    "    \"\"\"\n",
    "    # Your code here\n",
    "    user_item_train = create_user_item_matrix(df_train)\n",
    "    user_item_test = create_user_item_matrix(df_test)\n",
    "    test_idx = df_test['user_id'].unique()\n",
    "    test_arts = df_test['article_id'].unique()\n",
    "    \n",
    "\n",
    "    return user_item_train, user_item_test, test_idx, test_arts\n",
    "\n",
    "\n",
    "user_item_train, user_item_test, test_idx, test_arts = create_test_and_train_user_item(\n",
    "    df_train, df_test\n",
    ")"
   ]
  },
  {
   "cell_type": "code",
   "execution_count": 36,
   "metadata": {},
   "outputs": [
    {
     "name": "stdout",
     "output_type": "stream",
     "text": [
      "We can make predictions for 20 users in the test set because that is the number of users who are in both the train and test set.\n",
      "We cannot make predictions for 662 users because these users were not in the training set.\n",
      "We can make predictions for 574 articles in the test set because that is the number of articles who are in both the train and test set.\n",
      "We cannot make predictions for 0 articles in the test set beacuse these articles were not in the training set.\n"
     ]
    }
   ],
   "source": [
    "# 'How many users can we make predictions for in the test set?'\n",
    "users_in_both = np.intersect1d(test_idx, df_train['user_id'].unique())\n",
    "print(f'We can make predictions for {len(users_in_both)} users in the test set because that is the number of users who are in both the train and test set.')\n",
    "\n",
    "# 'How many users in the test set are we not able to make predictions for because of the cold start problem?'\n",
    "users_wo_pred = len(test_idx) - len(users_in_both)\n",
    "print(f'We cannot make predictions for {users_wo_pred} users because these users were not in the training set.')\n",
    "\n",
    "# 'How many articles can we make predictions for in the test set?'\n",
    "articles_in_both = np.intersect1d(test_arts, df_train['article_id'].unique())\n",
    "print(f'We can make predictions for {len(articles_in_both)} articles in the test set because that is the number of articles who are in both the train and test set.')\n",
    "\n",
    "# 'How many articles in the test set are we not able to make predictions for because of the cold start problem?'\n",
    "articles_wo_pred = len(test_arts) - len(articles_in_both)\n",
    "print(f'We cannot make predictions for {articles_wo_pred} articles in the test set beacuse these articles were not in the training set.')\n"
   ]
  },
  {
   "cell_type": "code",
   "execution_count": 37,
   "metadata": {},
   "outputs": [
    {
     "name": "stdout",
     "output_type": "stream",
     "text": [
      "Awesome job!  That's right!  All of the test articles are in the training data, but there are only 20 test users that were also in the training set.  All of the other users that are in the test set we have no data on.  Therefore, we cannot make predictions for these users using SVD.\n"
     ]
    }
   ],
   "source": [
    "# Replace the values in the dictionary below\n",
    "a = 662 \n",
    "b = 574 \n",
    "c = 20 \n",
    "d = 0 \n",
    "\n",
    "\n",
    "sol_4_dict = {\n",
    "    'How many users can we make predictions for in the test set?': c, # letter here, \n",
    "    'How many users in the test set are we not able to make predictions for because of the cold start problem?': a, # letter here, \n",
    "    'How many articles can we make predictions for in the test set?': b, # letter here,\n",
    "    'How many articles in the test set are we not able to make predictions for because of the cold start problem?': d # letter here\n",
    "}\n",
    "\n",
    "t.sol_4_test(sol_4_dict)"
   ]
  },
  {
   "cell_type": "markdown",
   "metadata": {},
   "source": [
    "`5.` Now use the **user_item_train** dataset from above to find U, S, and V transpose using SVD. Then find the subset of rows in the **user_item_test** dataset that you can predict using this matrix decomposition with different numbers of latent features to see how many features makes sense to keep based on the accuracy on the test data. This will require combining what was done in questions `2` - `4`.\n",
    "\n",
    "Use the cells below to explore how well SVD works towards making predictions for recommendations on the test data.  "
   ]
  },
  {
   "cell_type": "code",
   "execution_count": 38,
   "metadata": {},
   "outputs": [],
   "source": [
    "# fit SVD on the user_item_train matrix\n",
    "# only keep the article columns that are in both matrices\n",
    "user_item_train_selected_cols = user_item_train[articles_in_both]\n",
    "u_train, s_train, vt_train = np.linalg.svd(user_item_train_selected_cols)"
   ]
  },
  {
   "cell_type": "code",
   "execution_count": 39,
   "metadata": {},
   "outputs": [],
   "source": [
    "# Use these cells to see how well you can use the training\n",
    "# decomposition to predict on test data"
   ]
  },
  {
   "cell_type": "code",
   "execution_count": 40,
   "metadata": {},
   "outputs": [
    {
     "name": "stdout",
     "output_type": "stream",
     "text": [
      "Array of users in both train and test set. These are the user IDs which are also the index values of the pandas datafarme.\n",
      "[2917 3024 3093 3193 3527 3532 3684 3740 3777 3801 3968 3989 3990 3998\n",
      " 4002 4204 4231 4274 4293 4487]\n"
     ]
    }
   ],
   "source": [
    "# From above, I found that the variable users_in_both are the user IDs that are both in the user_item_train & the user_item_test matrix\n",
    "print('Array of users in both train and test set. These are the user IDs which are also the index values of the pandas datafarme.')\n",
    "print(users_in_both)"
   ]
  },
  {
   "cell_type": "code",
   "execution_count": 41,
   "metadata": {},
   "outputs": [],
   "source": [
    "# Find the corresponding numpy index.\n",
    "def get_numpy_index_based_on_user_id(user_df, users_in_both=users_in_both):\n",
    "    '''\n",
    "    This function will get the index location of the u_train or u_test matrix for the users thare in both.\n",
    "    Input:\n",
    "        user_df - Pandas dataframe.  Expects either the user_item_train or the user_item_test\n",
    "        users_in_both - numpy array.  a numpy array which contains the user IDs that are contained in both train and test dataframes.\n",
    "\n",
    "    Outputs:\n",
    "        user_index - A numpy array containining the corresponding index in the u matrix where these users' data is.\n",
    "\n",
    "    '''\n",
    "    user_index = user_df.index.get_indexer(users_in_both)\n",
    "    return user_index\n",
    "    "
   ]
  },
  {
   "cell_type": "code",
   "execution_count": 42,
   "metadata": {},
   "outputs": [],
   "source": [
    "# get the indeces for the users in both sets\n",
    "\n",
    "train_indeces = get_numpy_index_based_on_user_id(user_item_train_selected_cols)\n",
    "test_indeces = get_numpy_index_based_on_user_id(user_item_test)"
   ]
  },
  {
   "cell_type": "code",
   "execution_count": 43,
   "metadata": {},
   "outputs": [],
   "source": [
    "# get only the users that are in both to create u_train_new, s_train_new, and vt_train_new\n",
    "# also need to reshape data\n",
    "u_train_new = u_train[train_indeces, :len(s_train)]\n",
    "s_train_new = np.zeros((len(s_train), len(s_train)))\n",
    "s_train_new[:len(s_train), :len(s_train)] = np.diag(s_train)"
   ]
  },
  {
   "cell_type": "code",
   "execution_count": 44,
   "metadata": {},
   "outputs": [
    {
     "name": "stdout",
     "output_type": "stream",
     "text": [
      "-----u_train_new--------\n",
      "Total shape is (20, 574)\n",
      "First 10 rows and 4 columns\n",
      "\n",
      "[[-9.13836889e-03  1.05011318e-02  1.64170460e-05  1.05360851e-02]\n",
      " [-4.24717322e-02  8.81712398e-02  2.39322658e-02 -6.55528852e-03]\n",
      " [-1.08870302e-02  4.09224572e-02 -6.29518047e-03 -7.02200116e-03]\n",
      " [-2.27804234e-03  2.94297671e-03  5.89124862e-03  2.52119874e-02]\n",
      " [-4.70090762e-03  9.02373762e-04  2.87308395e-03 -2.24210210e-04]\n",
      " [-2.93923912e-02  4.18978632e-02  3.16136942e-02  1.18909974e-02]\n",
      " [-5.29802889e-02 -2.91960758e-02 -7.22159057e-03 -2.53288415e-03]\n",
      " [-1.82027357e-02  1.97820250e-02 -3.43668202e-03 -2.89206683e-03]\n",
      " [-1.01732647e-03  4.37255901e-03 -1.10355348e-03 -2.28698927e-03]\n",
      " [-1.68559954e-02  1.93308378e-02  7.38716415e-03  3.51047654e-02]]\n",
      "\n",
      "\n",
      "-----s_train_new--------\n",
      "Total shape is (574, 574)\n",
      "first 5 rows and 5 columns\n",
      "\n",
      "[[51.43582079  0.          0.          0.          0.        ]\n",
      " [ 0.         21.86811102  0.          0.          0.        ]\n",
      " [ 0.          0.         20.12597034  0.          0.        ]\n",
      " [ 0.          0.          0.         19.40964448  0.        ]\n",
      " [ 0.          0.          0.          0.         18.8143856 ]]\n",
      "\n",
      "\n",
      "-----vt-----------------\n",
      "Total shape is (574, 574)\n",
      "first 5 rows and 5 columns\n",
      "\n",
      "[[-0.00216372 -0.02504656 -0.0024647  -0.02893016 -0.00246597]\n",
      " [-0.00198199  0.02212544 -0.00133991  0.04988864  0.00338067]\n",
      " [-0.00110885 -0.00177941 -0.00437354  0.01632721  0.00080802]\n",
      " [ 0.00273457 -0.02271638  0.00386413 -0.0003749  -0.00194311]\n",
      " [-0.00436505 -0.01330233  0.00174063  0.04016096  0.00602517]]\n"
     ]
    }
   ],
   "source": [
    "# Examine reshaped u_train and s_train\n",
    "print('-----u_train_new--------')\n",
    "print(f'Total shape is {u_train_new.shape}')\n",
    "print('First 10 rows and 4 columns\\n')\n",
    "print(u_train_new[:10, :4])\n",
    "print('\\n')\n",
    "print('-----s_train_new--------')\n",
    "print(f'Total shape is {s_train_new.shape}')\n",
    "print('first 5 rows and 5 columns\\n')\n",
    "print(s_train_new[:5, :5])\n",
    "print('\\n')\n",
    "print('-----vt-----------------')\n",
    "print(f'Total shape is {vt_train.shape}')\n",
    "print('first 5 rows and 5 columns\\n')\n",
    "print(vt_train[:5, :5])\n"
   ]
  },
  {
   "cell_type": "code",
   "execution_count": 45,
   "metadata": {},
   "outputs": [],
   "source": [
    "# filter the user_item_train and user_test_train to just the subest of both users\n",
    "filtered_user_item_train = user_item_train_selected_cols.loc[users_in_both]\n",
    "filtered_user_item_test = user_item_test.loc[users_in_both]"
   ]
  },
  {
   "cell_type": "code",
   "execution_count": 46,
   "metadata": {
    "scrolled": true
   },
   "outputs": [],
   "source": [
    "def predict(u, s, vt, latent_features_max=100, user_item_train=filtered_user_item_train, user_item_test=filtered_user_item_test):\n",
    "    '''\n",
    "    Predict the test set for the 20 users based on the training data. Iterate over the number of latent features and measure the accuracy for each iteration.\n",
    "\n",
    "    Inputs:\n",
    "        u - This is the u_train_new which is the reshaped u_train filtered to just the 20 users that are in both training and test\n",
    "        s - This is the s_train_new which is the reshaped s_train\n",
    "        vt - This is the vt_train\n",
    "        latent_features_max - (integer) Try from 1 latent feature up to latent_features_max.\n",
    "        user_item_train - the filtered dataframe that contains only the 20 users in both training and test\n",
    "        user_item_test - the fitlered dataframe that contains only the 20 users in both training and test\n",
    "\n",
    "    Outputs:\n",
    "        num_latent_features_list - A list of the number of latent features tested in each iteration.\n",
    "        error_list - A list of the error between the test set and the prediction.\n",
    "        accuracy_list - A list of the accuracy for how well the test set was predicted\n",
    "    '''\n",
    "    num_latent_features_list = []\n",
    "    test_error_list = []\n",
    "    test_r2_list = []\n",
    "    train_error_list = []\n",
    "    train_r2_list = []\n",
    "    test_mean = np.mean(user_item_test) \n",
    "    train_mean = np.mean(user_item_train)\n",
    "    \n",
    "    for k in np.arange(1, latent_features_max+1, 1):\n",
    "        u_k = u[:, :k]\n",
    "        s_k = s[:k, :k]\n",
    "        vt_k = vt[:k, :]\n",
    "\n",
    "        pred = np.dot(np.dot(u_k, s_k), vt_k)\n",
    "\n",
    "        # calculate diff between pred and actual\n",
    "        squared_diff = np.square(np.array(user_item_test) - pred) # for test set\n",
    "        squared_diff_train = np.square(np.array(user_item_train) - pred) # for train set\n",
    "\n",
    "        # calculate the total error and append to error list for test set\n",
    "        sum_square_errs = np.sum(np.sum(squared_diff))\n",
    "        test_error_list.append(sum_square_errs)\n",
    "\n",
    "        # calculate the total error and append to error list for train set\n",
    "        sum_square_errs_train = np.sum(np.sum(squared_diff_train))\n",
    "        train_error_list.append(sum_square_errs_train)\n",
    "\n",
    "        # calculate r2 score\n",
    "        r2_test = 1 - (sum_square_errs / np.sum(np.sum(np.square((np.array(user_item_test) - test_mean))))) #for train\n",
    "        r2_train = 1 - (sum_square_errs_train / np.sum(np.sum(np.square((np.array(user_item_train) - train_mean)))))\n",
    "        test_r2_list.append(r2_test)\n",
    "        train_r2_list.append(r2_train)\n",
    "\n",
    "        # record number of latent features\n",
    "        num_latent_features_list.append(k)\n",
    "\n",
    "    return num_latent_features_list, test_error_list, test_r2_list, train_error_list, train_r2_list\n",
    "\n",
    "latent_features, test_errors, test_r2_scores, train_errors, train_r2_scores = predict(u_train_new, s_train_new, vt_train, latent_features_max = 500)\n",
    "\n",
    "        \n",
    "        "
   ]
  },
  {
   "cell_type": "code",
   "execution_count": 47,
   "metadata": {},
   "outputs": [
    {
     "data": {
      "image/png": "[encoded data removed]",
      "text/plain": [
       "<Figure size 1500x800 with 1 Axes>"
      ]
     },
     "metadata": {},
     "output_type": "display_data"
    }
   ],
   "source": [
    "# plot accuracy\n",
    "fig, ax = plt.subplots(figsize=(15, 8))\n",
    "sns.lineplot(x=latent_features, y=test_r2_scores, ax=ax, label=\"Test R2 score\");\n",
    "sns.lineplot(x=latent_features, y=train_r2_scores, ax=ax, label=\"Train R2 score\");\n",
    "ax.set_xlabel(\"Number of Latent Features\");\n",
    "ax.set_ylabel(\"R2 Score\");\n",
    "ax.set_title(\"R2 Score vs. Number of Latent Features\");"
   ]
  },
  {
   "cell_type": "markdown",
   "metadata": {
    "collapsed": true,
    "jupyter": {
     "outputs_hidden": true
    }
   },
   "source": [
    "`6.` Use the cell below to comment on the results you found in the previous question. Given the circumstances of your results, discuss what you might do to determine if the recommendations you make with any of the above recommendation systems are an improvement to how users currently find articles? "
   ]
  },
  {
   "cell_type": "markdown",
   "metadata": {},
   "source": [
    "**Your response here.**\n",
    "\n",
    "Due to the fact that the test errors and test r2 scores actually become worse with additional latent features, and due to the fact that the test r2 scores are almost 100% negative (except for the first r2 score with 1 latent feature but that is effectively 0), this means that our model is not doing a better job predicting which articles a user may choose to interact with vs just using the mean as the prediction for the test set.\n",
    "\n",
    "This is likely due to the fact that we have very low sample size, and the training data is also over-fitting for high numbers of latent features."
   ]
  },
  {
   "cell_type": "markdown",
   "metadata": {
    "collapsed": true,
    "jupyter": {
     "outputs_hidden": true
    }
   },
   "source": [
    "<a id='conclusions'></a>\n",
    "### Extras\n",
    "Using your workbook, you could now save your recommendations for each user, develop a class to make new predictions and update your results, and make a flask app to deploy your results.  These tasks are beyond what is required for this project.  However, from what you learned in the lessons, you certainly capable of taking these tasks on to improve upon your work here!\n",
    "\n",
    "\n",
    "## Conclusion\n",
    "\n",
    "> Congratulations!  You have reached the end of the Recommendations with IBM project! \n",
    "\n",
    "> **Tip**: Once you are satisfied with your work here, check over your report to make sure that it is satisfies all the areas of the [rubric](https://review.udacity.com/#!/rubrics/2322/view). You should also probably remove all of the \"Tips\" like this one so that the presentation is as polished as possible.\n",
    "\n",
    "\n",
    "## Directions to Submit\n",
    "\n",
    "> Before you submit your project, you need to create a .html or .pdf version of this notebook in the workspace here. To do that, run the code cell below. If it worked correctly, you should get a return code of 0, and you should see the generated .html file in the workspace directory (click on the orange Jupyter icon in the upper left).\n",
    "\n",
    "> Alternatively, you can download this report as .html via the **File** > **Download as** submenu, and then manually upload it into the workspace directory by clicking on the orange Jupyter icon in the upper left, then using the Upload button.\n",
    "\n",
    "> Once you've done this, you can submit your project by clicking on the \"Submit Project\" button in the lower right here. This will create and submit a zip file with this .ipynb doc and the .html or .pdf version you created. Congratulations! "
   ]
  },
  {
   "cell_type": "code",
   "execution_count": null,
   "metadata": {
    "collapsed": true,
    "jupyter": {
     "outputs_hidden": true
    }
   },
   "outputs": [],
   "source": [
    "from subprocess import call\n",
    "\n",
    "call([\"python\", \"-m\", \"nbconvert\", \"Recommendations_with_IBM.ipynb\"])"
   ]
  }
 ],
 "metadata": {
  "kernelspec": {
   "display_name": "IBM",
   "language": "python",
   "name": "ibm"
  },
  "language_info": {
   "codemirror_mode": {
    "name": "ipython",
    "version": 3
   },
   "file_extension": ".py",
   "mimetype": "text/x-python",
   "name": "python",
   "nbconvert_exporter": "python",
   "pygments_lexer": "ipython3",
   "version": "3.12.2"
  }
 },
 "nbformat": 4,
 "nbformat_minor": 4
}
